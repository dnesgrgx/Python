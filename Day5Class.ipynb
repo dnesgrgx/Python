{
 "cells": [
  {
   "cell_type": "code",
   "execution_count": null,
   "id": "f37e7921",
   "metadata": {},
   "outputs": [],
   "source": [
    "#List in Python\n",
    "fruits = [\"apple\", \"orange\", \"banana\", \"coconut\", \"banana\"]\n",
    "fruits.sort()\n",
    "fruits.arrange()\n",
    "print(fruits)"
   ]
  }
 ],
 "metadata": {
  "language_info": {
   "name": "python"
  }
 },
 "nbformat": 4,
 "nbformat_minor": 5
}
