{
 "cells": [
  {
   "cell_type": "markdown",
   "id": "f8ab9a37",
   "metadata": {},
   "source": [
    "### Q1: (Printing and Input)\n",
    "Print your name and age using two print statements."
   ]
  },
  {
   "cell_type": "code",
   "execution_count": 1,
   "id": "0279d2d0",
   "metadata": {},
   "outputs": [
    {
     "name": "stdout",
     "output_type": "stream",
     "text": [
      "My name is Dinesh Gurung\n",
      "I am 19 years old\n"
     ]
    }
   ],
   "source": [
    "print(\"My name is Dinesh Gurung\")\n",
    "print(\"I am 19 years old\")"
   ]
  },
  {
   "cell_type": "markdown",
   "id": "c16c9896",
   "metadata": {},
   "source": [
    "### Q2: (Printing and Input)\n",
    "Print the result of 10 + 20."
   ]
  },
  {
   "cell_type": "code",
   "execution_count": 2,
   "id": "e5122580",
   "metadata": {},
   "outputs": [
    {
     "name": "stdout",
     "output_type": "stream",
     "text": [
      "30\n"
     ]
    }
   ],
   "source": [
    "print(10 + 20)"
   ]
  },
  {
   "cell_type": "markdown",
   "id": "6573caaf",
   "metadata": {},
   "source": [
    "### Q3: (Printing and Input)\n",
    "Use `input()` to take a user's name and greet them."
   ]
  },
  {
   "cell_type": "code",
   "execution_count": 3,
   "id": "39fff17b",
   "metadata": {},
   "outputs": [
    {
     "name": "stdout",
     "output_type": "stream",
     "text": [
      "Hello, Dinesh!\n"
     ]
    }
   ],
   "source": [
    "name = input(\"Enter your name: \")\n",
    "print(\"Hello, \" + name + \"!\")"
   ]
  },
  {
   "cell_type": "markdown",
   "id": "3855d528",
   "metadata": {},
   "source": [
    "### Q4: (Printing and Input)\n",
    "Input two numbers and print their sum."
   ]
  },
  {
   "cell_type": "code",
   "execution_count": 5,
   "id": "aaf6a782",
   "metadata": {},
   "outputs": [
    {
     "name": "stdout",
     "output_type": "stream",
     "text": [
      "The sum is: 30\n"
     ]
    }
   ],
   "source": [
    "num1 = int(input(\"Enter first number: \"))\n",
    "num2 = int(input(\"Enter second number: \"))\n",
    "sum = num1 + num2\n",
    "print(\"The sum is:\", sum)"
   ]
  },
  {
   "cell_type": "markdown",
   "id": "1da9ba3a",
   "metadata": {},
   "source": [
    "### Q5: (Printing and Input)\n",
    "Ask for a favorite color and print it twice using multiplication."
   ]
  },
  {
   "cell_type": "code",
   "execution_count": 6,
   "id": "406f7bbe",
   "metadata": {},
   "outputs": [
    {
     "name": "stdout",
     "output_type": "stream",
     "text": [
      "WhiteWhite\n"
     ]
    }
   ],
   "source": [
    "color = input(\"Enter your favorite color: \")\n",
    "print(color * 2)"
   ]
  },
  {
   "cell_type": "markdown",
   "id": "5a25c994",
   "metadata": {},
   "source": [
    "### Q6: (Printing and Input)\n",
    "Ask the user to input a sentence and print its length."
   ]
  },
  {
   "cell_type": "code",
   "execution_count": 7,
   "id": "d98df8d8",
   "metadata": {},
   "outputs": [
    {
     "name": "stdout",
     "output_type": "stream",
     "text": [
      "The length of the sentence is: 14\n"
     ]
    }
   ],
   "source": [
    "sentence = input(\"Enter a sentence: \")\n",
    "print(\"The length of the sentence is:\", len(sentence))"
   ]
  },
  {
   "cell_type": "markdown",
   "id": "813f4fc9",
   "metadata": {},
   "source": [
    "### Q7: (Variable and Data Types)\n",
    "Create a variable for each type: int, float, string, bool. Print them."
   ]
  },
  {
   "cell_type": "code",
   "execution_count": 8,
   "id": "3ebf3587",
   "metadata": {},
   "outputs": [
    {
     "name": "stdout",
     "output_type": "stream",
     "text": [
      "Integer: 10\n",
      "Float: 3.14\n",
      "String: Hello, Python!\n",
      "Boolean: True\n"
     ]
    }
   ],
   "source": [
    "my_int = 10\n",
    "my_float = 3.14\n",
    "my_string = \"Hello, Python!\"\n",
    "my_bool = True\n",
    "\n",
    "print(\"Integer:\", my_int)\n",
    "print(\"Float:\", my_float)\n",
    "print(\"String:\", my_string)\n",
    "print(\"Boolean:\", my_bool)"
   ]
  },
  {
   "cell_type": "markdown",
   "id": "f3b03a15",
   "metadata": {},
   "source": [
    "### Q8: (Variable and Data Types)\n",
    "Assign the value 10 to x and then add 5 to it. Print the result."
   ]
  },
  {
   "cell_type": "code",
   "execution_count": 9,
   "id": "5c61e9ab",
   "metadata": {},
   "outputs": [
    {
     "name": "stdout",
     "output_type": "stream",
     "text": [
      "The result is: 15\n"
     ]
    }
   ],
   "source": [
    "x = 10\n",
    "x = x + 5\n",
    "print(\"The result is:\", x)"
   ]
  },
  {
   "cell_type": "markdown",
   "id": "13a3cb28",
   "metadata": {},
   "source": [
    "### Q9: (Variable and Data Types)\n",
    "Check the type of variable `val = 3.14`."
   ]
  },
  {
   "cell_type": "code",
   "execution_count": 10,
   "id": "48968742",
   "metadata": {},
   "outputs": [
    {
     "name": "stdout",
     "output_type": "stream",
     "text": [
      "Value: 3.14\n",
      "Type: <class 'float'>\n"
     ]
    }
   ],
   "source": [
    "val = 3.14\n",
    "print(\"Value:\", val)\n",
    "print(\"Type:\", type(val))"
   ]
  },
  {
   "cell_type": "markdown",
   "id": "c980d4f3",
   "metadata": {},
   "source": [
    "### Q10: (Variable and Data Types)\n",
    "Use multiple assignment to assign 3 values to a, b, c."
   ]
  },
  {
   "cell_type": "code",
   "execution_count": 11,
   "id": "d6b5a2a4",
   "metadata": {},
   "outputs": [
    {
     "name": "stdout",
     "output_type": "stream",
     "text": [
      "a = 5\n",
      "b = 10\n",
      "c = 15\n"
     ]
    }
   ],
   "source": [
    "a, b, c = 5, 10, 15\n",
    "\n",
    "print(\"a =\", a)\n",
    "print(\"b =\", b)\n",
    "print(\"c =\", c)"
   ]
  },
  {
   "cell_type": "markdown",
   "id": "170338e4",
   "metadata": {},
   "source": [
    "### Q11: (Complex Numbers)\n",
    "Create complex numbers x = 2+3j and y = 4-2j. Print their sum."
   ]
  },
  {
   "cell_type": "code",
   "execution_count": 12,
   "id": "3d6a8e68",
   "metadata": {},
   "outputs": [
    {
     "name": "stdout",
     "output_type": "stream",
     "text": [
      "The sum is: (6+1j)\n"
     ]
    }
   ],
   "source": [
    "x = 2 + 3j\n",
    "y = 4 - 2j\n",
    "sum = x + y\n",
    "print(\"The sum is:\", sum)"
   ]
  },
  {
   "cell_type": "markdown",
   "id": "52748b36",
   "metadata": {},
   "source": [
    "### Q12: (Complex Numbers)\n",
    "Print the real and imaginary parts of 5 + 7j."
   ]
  },
  {
   "cell_type": "code",
   "execution_count": 13,
   "id": "a4bd1412",
   "metadata": {},
   "outputs": [
    {
     "name": "stdout",
     "output_type": "stream",
     "text": [
      "Real part: 5.0\n",
      "Imaginary part: 7.0\n"
     ]
    }
   ],
   "source": [
    "z = 5 + 7j\n",
    "print(\"Real part:\", z.real)\n",
    "print(\"Imaginary part:\", z.imag)"
   ]
  },
  {
   "cell_type": "markdown",
   "id": "0f0fa2bd",
   "metadata": {},
   "source": [
    "### Q13: (Complex Numbers)\n",
    "Multiply two complex numbers: (1+2j)*(3+4j) and print the result."
   ]
  },
  {
   "cell_type": "code",
   "execution_count": 14,
   "id": "b7d61e9d",
   "metadata": {},
   "outputs": [
    {
     "name": "stdout",
     "output_type": "stream",
     "text": [
      "The result is: (-5+10j)\n"
     ]
    }
   ],
   "source": [
    "x = 1 + 2j\n",
    "y = 3 + 4j\n",
    "result = x * y\n",
    "print(\"The result is:\", result)"
   ]
  },
  {
   "cell_type": "markdown",
   "id": "06d7073c",
   "metadata": {},
   "source": [
    "### Q14: (If-Else and Comparisons)\n",
    "Check if the number 12 is greater than 10 and print a message."
   ]
  },
  {
   "cell_type": "code",
   "execution_count": 15,
   "id": "18d1e7b4",
   "metadata": {},
   "outputs": [
    {
     "name": "stdout",
     "output_type": "stream",
     "text": [
      "12 is greater than 10\n"
     ]
    }
   ],
   "source": [
    "if 12 > 10:\n",
    "    print(\"12 is greater than 10\")"
   ]
  },
  {
   "cell_type": "markdown",
   "id": "9b300253",
   "metadata": {},
   "source": [
    "### Q15: (If-Else and Comparisons)\n",
    "Ask for an age and print whether the person is an adult or not."
   ]
  },
  {
   "cell_type": "code",
   "execution_count": 16,
   "id": "299136ae",
   "metadata": {},
   "outputs": [
    {
     "name": "stdout",
     "output_type": "stream",
     "text": [
      "You are an adult.\n"
     ]
    }
   ],
   "source": [
    "age = int(input(\"Enter your age: \"))\n",
    "\n",
    "if age >= 18:\n",
    "    print(\"You are an adult.\")\n",
    "else:\n",
    "    print(\"You are not an adult.\")"
   ]
  },
  {
   "cell_type": "markdown",
   "id": "a6a78c28",
   "metadata": {},
   "source": [
    "### Q16: (If-Else and Comparisons)\n",
    "Check if a number is even or odd."
   ]
  },
  {
   "cell_type": "code",
   "execution_count": 17,
   "id": "a4103384",
   "metadata": {},
   "outputs": [
    {
     "name": "stdout",
     "output_type": "stream",
     "text": [
      "The number is odd.\n"
     ]
    }
   ],
   "source": [
    "num = int(input(\"Enter a number: \"))\n",
    "\n",
    "if num % 2 == 0:\n",
    "    print(\"The number is even.\")\n",
    "else:\n",
    "    print(\"The number is odd.\")"
   ]
  },
  {
   "cell_type": "markdown",
   "id": "d0508082",
   "metadata": {},
   "source": [
    "### Q17: (If-Else and Comparisons)\n",
    "Compare two input numbers and print which is larger."
   ]
  },
  {
   "cell_type": "code",
   "execution_count": 18,
   "id": "3154a335",
   "metadata": {},
   "outputs": [
    {
     "name": "stdout",
     "output_type": "stream",
     "text": [
      "The second number is larger.\n"
     ]
    }
   ],
   "source": [
    "num1 = float(input(\"Enter first number: \"))\n",
    "num2 = float(input(\"Enter second number: \"))\n",
    "\n",
    "if num1 > num2:\n",
    "    print(\"The first number is larger.\")\n",
    "elif num2 > num1:\n",
    "    print(\"The second number is larger.\")\n",
    "else:\n",
    "    print(\"Both numbers are equal.\")"
   ]
  },
  {
   "cell_type": "markdown",
   "id": "2f6fb761",
   "metadata": {},
   "source": [
    "### Q18: (Loops)\n",
    "Print numbers from 1 to 10 using a for loop."
   ]
  },
  {
   "cell_type": "code",
   "execution_count": 19,
   "id": "d86bb287",
   "metadata": {},
   "outputs": [
    {
     "name": "stdout",
     "output_type": "stream",
     "text": [
      "1\n",
      "2\n",
      "3\n",
      "4\n",
      "5\n",
      "6\n",
      "7\n",
      "8\n",
      "9\n",
      "10\n"
     ]
    }
   ],
   "source": [
    "for i in range(1, 11):\n",
    "    print(i)"
   ]
  },
  {
   "cell_type": "markdown",
   "id": "719a344e",
   "metadata": {},
   "source": [
    "### Q19: (Loops)\n",
    "Print all even numbers from 0 to 20."
   ]
  },
  {
   "cell_type": "code",
   "execution_count": 20,
   "id": "75ba27f0",
   "metadata": {},
   "outputs": [
    {
     "name": "stdout",
     "output_type": "stream",
     "text": [
      "0\n",
      "2\n",
      "4\n",
      "6\n",
      "8\n",
      "10\n",
      "12\n",
      "14\n",
      "16\n",
      "18\n",
      "20\n"
     ]
    }
   ],
   "source": [
    "for num in range(0, 21, 2):\n",
    "    print(num)"
   ]
  },
  {
   "cell_type": "markdown",
   "id": "05acf273",
   "metadata": {},
   "source": [
    "### Q20: (Loops)\n",
    "Print the multiplication table of 7."
   ]
  },
  {
   "cell_type": "code",
   "execution_count": 21,
   "id": "d564f8d4",
   "metadata": {},
   "outputs": [
    {
     "name": "stdout",
     "output_type": "stream",
     "text": [
      "7 x 1 = 7\n",
      "7 x 2 = 14\n",
      "7 x 3 = 21\n",
      "7 x 4 = 28\n",
      "7 x 5 = 35\n",
      "7 x 6 = 42\n",
      "7 x 7 = 49\n",
      "7 x 8 = 56\n",
      "7 x 9 = 63\n",
      "7 x 10 = 70\n"
     ]
    }
   ],
   "source": [
    "for i in range(1, 11):\n",
    "    print(\"7 x\", i, \"=\", 7 * i)"
   ]
  },
  {
   "cell_type": "markdown",
   "id": "41a216df",
   "metadata": {},
   "source": [
    "### Q21: (Loops)\n",
    "Use a while loop to print numbers from 5 to 1."
   ]
  },
  {
   "cell_type": "code",
   "execution_count": 22,
   "id": "3273c968",
   "metadata": {},
   "outputs": [
    {
     "name": "stdout",
     "output_type": "stream",
     "text": [
      "5\n",
      "4\n",
      "3\n",
      "2\n",
      "1\n"
     ]
    }
   ],
   "source": [
    "num = 5\n",
    "while num >= 1:\n",
    "    print(num)\n",
    "    num -= 1"
   ]
  },
  {
   "cell_type": "markdown",
   "id": "2d506e61",
   "metadata": {},
   "source": [
    "### Q22: (Loops)\n",
    "Print the characters of a string one by one using a loop."
   ]
  },
  {
   "cell_type": "code",
   "execution_count": 23,
   "id": "78c2f435",
   "metadata": {},
   "outputs": [
    {
     "name": "stdout",
     "output_type": "stream",
     "text": [
      "H\n",
      "e\n",
      "l\n",
      "l\n",
      "o\n"
     ]
    }
   ],
   "source": [
    "my_string = \"Hello\"\n",
    "for char in my_string:\n",
    "    print(char)"
   ]
  },
  {
   "cell_type": "markdown",
   "id": "92d4177d",
   "metadata": {},
   "source": [
    "### Q23: (String Operations)\n",
    "Concatenate 'Hello' and 'World' and print."
   ]
  },
  {
   "cell_type": "code",
   "execution_count": 24,
   "id": "18a69cf1",
   "metadata": {},
   "outputs": [
    {
     "name": "stdout",
     "output_type": "stream",
     "text": [
      "HelloWorld\n"
     ]
    }
   ],
   "source": [
    "str1 = \"Hello\"\n",
    "str2 = \"World\"\n",
    "result = str1 + str2\n",
    "print(result)"
   ]
  },
  {
   "cell_type": "markdown",
   "id": "0117a785",
   "metadata": {},
   "source": [
    "### Q24: (String Operations)\n",
    "Repeat the word 'Yes' 4 times using *."
   ]
  },
  {
   "cell_type": "code",
   "execution_count": 25,
   "id": "b3c07d0b",
   "metadata": {},
   "outputs": [
    {
     "name": "stdout",
     "output_type": "stream",
     "text": [
      "YesYesYesYes\n"
     ]
    }
   ],
   "source": [
    "print(\"Yes\" * 4)"
   ]
  },
  {
   "cell_type": "markdown",
   "id": "c33b1381",
   "metadata": {},
   "source": [
    "### Q25: (String Operations)\n",
    "Find the length of a string input by user."
   ]
  },
  {
   "cell_type": "code",
   "execution_count": 26,
   "id": "13542bdf",
   "metadata": {},
   "outputs": [
    {
     "name": "stdout",
     "output_type": "stream",
     "text": [
      "The length of the string is: 5\n"
     ]
    }
   ],
   "source": [
    "user_input = input(\"Enter a string: \")\n",
    "length = len(user_input)\n",
    "print(\"The length of the string is:\", length)"
   ]
  },
  {
   "cell_type": "markdown",
   "id": "e0ae1001",
   "metadata": {},
   "source": [
    "### Q26: (String Operations)\n",
    "Access and print the first and last character of a string."
   ]
  },
  {
   "cell_type": "code",
   "execution_count": 27,
   "id": "242cb4ae",
   "metadata": {},
   "outputs": [
    {
     "name": "stdout",
     "output_type": "stream",
     "text": [
      "First character: p\n",
      "Last character: n\n"
     ]
    }
   ],
   "source": [
    "my_string = input(\"Enter a string: \")\n",
    "print(\"First character:\", my_string[0])\n",
    "print(\"Last character:\", my_string[-1])"
   ]
  },
  {
   "cell_type": "markdown",
   "id": "a25edfc7",
   "metadata": {},
   "source": [
    "### Q27: (Lists)\n",
    "Create a list of 5 fruits and print the third item."
   ]
  },
  {
   "cell_type": "code",
   "execution_count": 28,
   "id": "1f006ff1",
   "metadata": {},
   "outputs": [
    {
     "name": "stdout",
     "output_type": "stream",
     "text": [
      "The third fruit is: cherry\n"
     ]
    }
   ],
   "source": [
    "fruits = [\"apple\", \"banana\", \"cherry\", \"date\", \"elderberry\"]\n",
    "print(\"The third fruit is:\", fruits[2])"
   ]
  },
  {
   "cell_type": "markdown",
   "id": "e6dd1826",
   "metadata": {},
   "source": [
    "### Q28: (Lists)\n",
    "Add 'mango' to the list and print."
   ]
  },
  {
   "cell_type": "code",
   "execution_count": 29,
   "id": "7d66a74e",
   "metadata": {},
   "outputs": [
    {
     "name": "stdout",
     "output_type": "stream",
     "text": [
      "['apple', 'banana', 'cherry', 'date', 'elderberry', 'mango']\n"
     ]
    }
   ],
   "source": [
    "fruits = [\"apple\", \"banana\", \"cherry\", \"date\", \"elderberry\"]\n",
    "fruits.append(\"mango\")\n",
    "print(fruits)"
   ]
  },
  {
   "cell_type": "markdown",
   "id": "1f823c7e",
   "metadata": {},
   "source": [
    "### Q29: (Lists)\n",
    "Remove the first item of the list and print the rest."
   ]
  },
  {
   "cell_type": "code",
   "execution_count": 30,
   "id": "d8259b4a",
   "metadata": {},
   "outputs": [
    {
     "name": "stdout",
     "output_type": "stream",
     "text": [
      "['banana', 'cherry', 'date', 'elderberry', 'mango']\n"
     ]
    }
   ],
   "source": [
    "fruits = [\"apple\", \"banana\", \"cherry\", \"date\", \"elderberry\", \"mango\"]\n",
    "fruits.pop(0)  # Removes the first item\n",
    "print(fruits)"
   ]
  },
  {
   "cell_type": "markdown",
   "id": "30b78d5b",
   "metadata": {},
   "source": [
    "### Q30: (Lists)\n",
    "Sort a list of numbers in descending order."
   ]
  },
  {
   "cell_type": "code",
   "execution_count": 31,
   "id": "085d942f",
   "metadata": {},
   "outputs": [
    {
     "name": "stdout",
     "output_type": "stream",
     "text": [
      "[9, 7, 5, 2, 1]\n"
     ]
    }
   ],
   "source": [
    "numbers = [5, 2, 9, 1, 7]\n",
    "numbers.sort(reverse=True)\n",
    "print(numbers)"
   ]
  },
  {
   "cell_type": "markdown",
   "id": "e9361197",
   "metadata": {},
   "source": [
    "### Q31: (Lists)\n",
    "Print every second item from a list using slicing."
   ]
  },
  {
   "cell_type": "code",
   "execution_count": 32,
   "id": "69183c08",
   "metadata": {},
   "outputs": [
    {
     "name": "stdout",
     "output_type": "stream",
     "text": [
      "[20, 40, 60]\n"
     ]
    }
   ],
   "source": [
    "my_list = [10, 20, 30, 40, 50, 60, 70]\n",
    "print(my_list[1::2])"
   ]
  },
  {
   "cell_type": "markdown",
   "id": "b9e340f2",
   "metadata": {},
   "source": [
    "### Q32: (Tuples)\n",
    "Create a tuple with 4 numbers and print its last item."
   ]
  },
  {
   "cell_type": "code",
   "execution_count": 33,
   "id": "f9f15292",
   "metadata": {},
   "outputs": [
    {
     "name": "stdout",
     "output_type": "stream",
     "text": [
      "The last item is: 40\n"
     ]
    }
   ],
   "source": [
    "my_tuple = (10, 20, 30, 40)\n",
    "print(\"The last item is:\", my_tuple[-1])"
   ]
  },
  {
   "cell_type": "markdown",
   "id": "d3c37e08",
   "metadata": {},
   "source": [
    "### Q33: (Tuples)\n",
    "Try changing the value of an item in a tuple and observe the error."
   ]
  },
  {
   "cell_type": "code",
   "execution_count": null,
   "id": "ed7228dc",
   "metadata": {},
   "outputs": [
    {
     "ename": "TypeError",
     "evalue": "'tuple' object does not support item assignment",
     "output_type": "error",
     "traceback": [
      "\u001b[31m---------------------------------------------------------------------------\u001b[39m",
      "\u001b[31mTypeError\u001b[39m                                 Traceback (most recent call last)",
      "\u001b[36mCell\u001b[39m\u001b[36m \u001b[39m\u001b[32mIn[34]\u001b[39m\u001b[32m, line 2\u001b[39m\n\u001b[32m      1\u001b[39m my_tuple = (\u001b[32m10\u001b[39m, \u001b[32m20\u001b[39m, \u001b[32m30\u001b[39m, \u001b[32m40\u001b[39m)\n\u001b[32m----> \u001b[39m\u001b[32m2\u001b[39m \u001b[43mmy_tuple\u001b[49m\u001b[43m[\u001b[49m\u001b[32;43m1\u001b[39;49m\u001b[43m]\u001b[49m = \u001b[32m50\u001b[39m  \u001b[38;5;66;03m# Trying to change the second item\u001b[39;00m\n",
      "\u001b[31mTypeError\u001b[39m: 'tuple' object does not support item assignment"
     ]
    }
   ],
   "source": [
    "my_tuple = (10, 20, 30, 40)\n",
    "my_tuple[1] = 50  "
   ]
  },
  {
   "cell_type": "markdown",
   "id": "9b9c8668",
   "metadata": {},
   "source": [
    "### Q34: (Tuples)\n",
    "Convert a tuple to a list, change a value, and convert it back."
   ]
  },
  {
   "cell_type": "code",
   "execution_count": 1,
   "id": "f2288a67",
   "metadata": {},
   "outputs": [
    {
     "name": "stdout",
     "output_type": "stream",
     "text": [
      "(10, 25, 30)\n"
     ]
    }
   ],
   "source": [
    "my_tuple = (10, 20, 30)\n",
    "my_list = list(my_tuple)\n",
    "my_list[1] = 25\n",
    "new_tuple = tuple(my_list)\n",
    "print(new_tuple)"
   ]
  },
  {
   "cell_type": "markdown",
   "id": "63348f89",
   "metadata": {},
   "source": [
    "### Q35: (Sets)\n",
    "Create a set of 3 elements and add one more element."
   ]
  },
  {
   "cell_type": "code",
   "execution_count": 2,
   "id": "0884e279",
   "metadata": {},
   "outputs": [
    {
     "name": "stdout",
     "output_type": "stream",
     "text": [
      "{1, 2, 3, 4}\n"
     ]
    }
   ],
   "source": [
    "my_set = {1, 2, 3}\n",
    "my_set.add(4)\n",
    "print(my_set)"
   ]
  },
  {
   "cell_type": "markdown",
   "id": "54c17b59",
   "metadata": {},
   "source": [
    "### Q36: (Sets)\n",
    "Try adding a duplicate and print the set."
   ]
  },
  {
   "cell_type": "code",
   "execution_count": 3,
   "id": "6ab2ac73",
   "metadata": {},
   "outputs": [
    {
     "name": "stdout",
     "output_type": "stream",
     "text": [
      "{1, 2, 3}\n"
     ]
    }
   ],
   "source": [
    "my_set = {1, 2, 3}\n",
    "my_set.add(2)\n",
    "print(my_set)"
   ]
  },
  {
   "cell_type": "markdown",
   "id": "7e3fea9e",
   "metadata": {},
   "source": [
    "### Q37: (Sets)\n",
    "Perform union of two sets {1,2,3} and {3,4,5}."
   ]
  },
  {
   "cell_type": "code",
   "execution_count": 4,
   "id": "ceb5ed1f",
   "metadata": {},
   "outputs": [
    {
     "name": "stdout",
     "output_type": "stream",
     "text": [
      "{1, 2, 3, 4, 5}\n"
     ]
    }
   ],
   "source": [
    "set1 = {1, 2, 3}\n",
    "set2 = {3, 4, 5}\n",
    "union_set = set1.union(set2)\n",
    "print(union_set)"
   ]
  },
  {
   "cell_type": "markdown",
   "id": "87863627",
   "metadata": {},
   "source": [
    "### Q38: (Dictionaries)\n",
    "Create a dictionary for a student with name, age, grade. Print the dictionary."
   ]
  },
  {
   "cell_type": "code",
   "execution_count": 5,
   "id": "8e56d184",
   "metadata": {},
   "outputs": [
    {
     "name": "stdout",
     "output_type": "stream",
     "text": [
      "{'name': 'John', 'age': 16, 'grade': '10th'}\n"
     ]
    }
   ],
   "source": [
    "student = {\n",
    "    \"name\": \"John\",\n",
    "    \"age\": 16,\n",
    "    \"grade\": \"10th\"\n",
    "}\n",
    "print(student)"
   ]
  },
  {
   "cell_type": "markdown",
   "id": "3324e2e3",
   "metadata": {},
   "source": [
    "### Q39: (Dictionaries)\n",
    "Access the age from the dictionary."
   ]
  },
  {
   "cell_type": "code",
   "execution_count": 6,
   "id": "560006c0",
   "metadata": {},
   "outputs": [
    {
     "name": "stdout",
     "output_type": "stream",
     "text": [
      "16\n"
     ]
    }
   ],
   "source": [
    "print(student[\"age\"])"
   ]
  },
  {
   "cell_type": "markdown",
   "id": "da22fe81",
   "metadata": {},
   "source": [
    "### Q40: (Dictionaries)\n",
    "Update the grade of the student."
   ]
  },
  {
   "cell_type": "code",
   "execution_count": 7,
   "id": "5d481678",
   "metadata": {},
   "outputs": [
    {
     "name": "stdout",
     "output_type": "stream",
     "text": [
      "{'name': 'John', 'age': 16, 'grade': '11th'}\n"
     ]
    }
   ],
   "source": [
    "student[\"grade\"] = \"11th\"\n",
    "print(student)"
   ]
  },
  {
   "cell_type": "markdown",
   "id": "3496f8fd",
   "metadata": {},
   "source": [
    "### Q41: (Dictionaries)\n",
    "Add a new key 'subject' to the dictionary."
   ]
  },
  {
   "cell_type": "code",
   "execution_count": 8,
   "id": "ae01bb44",
   "metadata": {},
   "outputs": [
    {
     "name": "stdout",
     "output_type": "stream",
     "text": [
      "{'name': 'John', 'age': 16, 'grade': '11th', 'subject': 'Math'}\n"
     ]
    }
   ],
   "source": [
    "student[\"subject\"] = \"Math\"\n",
    "print(student)"
   ]
  },
  {
   "cell_type": "markdown",
   "id": "99540b8b",
   "metadata": {},
   "source": [
    "### Q42: (Indexing and Slicing)\n",
    "Create a list of numbers and print elements from index 1 to 4."
   ]
  },
  {
   "cell_type": "code",
   "execution_count": 9,
   "id": "949f355a",
   "metadata": {},
   "outputs": [
    {
     "name": "stdout",
     "output_type": "stream",
     "text": [
      "[20, 30, 40, 50]\n"
     ]
    }
   ],
   "source": [
    "numbers = [10, 20, 30, 40, 50, 60]\n",
    "print(numbers[1:5])"
   ]
  },
  {
   "cell_type": "markdown",
   "id": "5ac04cc4",
   "metadata": {},
   "source": [
    "### Q43: (Indexing and Slicing)\n",
    "Access every second element in the list."
   ]
  },
  {
   "cell_type": "code",
   "execution_count": 10,
   "id": "a8b98caf",
   "metadata": {},
   "outputs": [
    {
     "name": "stdout",
     "output_type": "stream",
     "text": [
      "[10, 30, 50]\n"
     ]
    }
   ],
   "source": [
    "numbers = [10, 20, 30, 40, 50, 60]\n",
    "print(numbers[::2])"
   ]
  },
  {
   "cell_type": "markdown",
   "id": "e3839415",
   "metadata": {},
   "source": [
    "### Q44: (Indexing and Slicing)\n",
    "Print the last three characters of the string 'Programming'."
   ]
  },
  {
   "cell_type": "code",
   "execution_count": 11,
   "id": "edbace21",
   "metadata": {},
   "outputs": [
    {
     "name": "stdout",
     "output_type": "stream",
     "text": [
      "ing\n"
     ]
    }
   ],
   "source": [
    "s = \"Programming\"\n",
    "print(s[-3:])"
   ]
  },
  {
   "cell_type": "markdown",
   "id": "63a113fd",
   "metadata": {},
   "source": [
    "### Q45: (Nested Structures)\n",
    "Create a nested list and print the second element of the first list."
   ]
  },
  {
   "cell_type": "code",
   "execution_count": 12,
   "id": "44952db5",
   "metadata": {},
   "outputs": [
    {
     "name": "stdout",
     "output_type": "stream",
     "text": [
      "20\n"
     ]
    }
   ],
   "source": [
    "nested_list = [[10, 20, 30], [40, 50, 60]]\n",
    "print(nested_list[0][1])"
   ]
  },
  {
   "cell_type": "markdown",
   "id": "4ba85ec0",
   "metadata": {},
   "source": [
    "### Q46: (Nested Structures)\n",
    "Create a nested dictionary and access a nested value."
   ]
  },
  {
   "cell_type": "code",
   "execution_count": 13,
   "id": "c61664b0",
   "metadata": {},
   "outputs": [
    {
     "name": "stdout",
     "output_type": "stream",
     "text": [
      "90\n"
     ]
    }
   ],
   "source": [
    "student = {\n",
    "    \"name\": \"Alice\",\n",
    "    \"age\": 17,\n",
    "    \"grades\": {\n",
    "        \"math\": 90,\n",
    "        \"science\": 85\n",
    "    }\n",
    "}\n",
    "\n",
    "print(student[\"grades\"][\"math\"])"
   ]
  },
  {
   "cell_type": "markdown",
   "id": "8cb0baee",
   "metadata": {},
   "source": [
    "### Q47: (NumPy Basics)\n",
    "Import numpy and create a 1D array from 0 to 9."
   ]
  },
  {
   "cell_type": "code",
   "execution_count": 14,
   "id": "83f5ab2d",
   "metadata": {},
   "outputs": [
    {
     "name": "stdout",
     "output_type": "stream",
     "text": [
      "[0 1 2 3 4 5 6 7 8 9]\n"
     ]
    }
   ],
   "source": [
    "import numpy as np\n",
    "\n",
    "arr = np.arange(10)\n",
    "print(arr)"
   ]
  },
  {
   "cell_type": "markdown",
   "id": "601eb4aa",
   "metadata": {},
   "source": [
    "### Q48: (NumPy Basics)\n",
    "Create a 2D array with shape (2,3)."
   ]
  },
  {
   "cell_type": "code",
   "execution_count": 15,
   "id": "9c499c37",
   "metadata": {},
   "outputs": [
    {
     "name": "stdout",
     "output_type": "stream",
     "text": [
      "[[1 2 3]\n",
      " [4 5 6]]\n",
      "Shape: (2, 3)\n"
     ]
    }
   ],
   "source": [
    "import numpy as np\n",
    "\n",
    "arr = np.array([[1, 2, 3],\n",
    "                [4, 5, 6]])\n",
    "print(arr)\n",
    "print(\"Shape:\", arr.shape)"
   ]
  },
  {
   "cell_type": "markdown",
   "id": "9390f908",
   "metadata": {},
   "source": [
    "### Q49: (NumPy Basics)\n",
    "Print the shape and dtype of an array."
   ]
  },
  {
   "cell_type": "code",
   "execution_count": 16,
   "id": "31c66039",
   "metadata": {},
   "outputs": [
    {
     "name": "stdout",
     "output_type": "stream",
     "text": [
      "Shape: (2, 3)\n",
      "Data type: int64\n"
     ]
    }
   ],
   "source": [
    "import numpy as np\n",
    "\n",
    "arr = np.array([[1, 2, 3], [4, 5, 6]])\n",
    "\n",
    "print(\"Shape:\", arr.shape)\n",
    "print(\"Data type:\", arr.dtype)"
   ]
  },
  {
   "cell_type": "markdown",
   "id": "098f024d",
   "metadata": {},
   "source": [
    "### Q50: (NumPy Basics)\n",
    "Use np.linspace to create 5 values from 1 to 10."
   ]
  },
  {
   "cell_type": "code",
   "execution_count": 17,
   "id": "e85a5db3",
   "metadata": {},
   "outputs": [
    {
     "name": "stdout",
     "output_type": "stream",
     "text": [
      "[ 1.    3.25  5.5   7.75 10.  ]\n"
     ]
    }
   ],
   "source": [
    "import numpy as np\n",
    "\n",
    "values = np.linspace(1, 10, 5)\n",
    "print(values)"
   ]
  },
  {
   "cell_type": "markdown",
   "id": "322eda7a",
   "metadata": {},
   "source": [
    "### Q51: (NumPy Basics)\n",
    "Generate a random array of shape (3,3)."
   ]
  },
  {
   "cell_type": "code",
   "execution_count": 18,
   "id": "58c9844e",
   "metadata": {},
   "outputs": [
    {
     "name": "stdout",
     "output_type": "stream",
     "text": [
      "[[0.9331292  0.14224599 0.35510232]\n",
      " [0.53983274 0.66783983 0.68903975]\n",
      " [0.61803321 0.52626393 0.45854176]]\n"
     ]
    }
   ],
   "source": [
    "import numpy as np\n",
    "\n",
    "random_array = np.random.rand(3, 3)\n",
    "print(random_array)"
   ]
  },
  {
   "cell_type": "markdown",
   "id": "f5212299",
   "metadata": {},
   "source": [
    "### Q52: (NumPy Basics)\n",
    "Find the maximum and mean of a numpy array."
   ]
  },
  {
   "cell_type": "code",
   "execution_count": 19,
   "id": "fa5bfd48",
   "metadata": {},
   "outputs": [
    {
     "name": "stdout",
     "output_type": "stream",
     "text": [
      "Maximum: 50\n",
      "Mean: 30.0\n"
     ]
    }
   ],
   "source": [
    "import numpy as np\n",
    "\n",
    "arr = np.array([10, 20, 30, 40, 50])\n",
    "\n",
    "max_value = arr.max()\n",
    "mean_value = arr.mean()\n",
    "\n",
    "print(\"Maximum:\", max_value)\n",
    "print(\"Mean:\", mean_value)"
   ]
  },
  {
   "cell_type": "markdown",
   "id": "3321a13c",
   "metadata": {},
   "source": [
    "### Q53: (NumPy Basics)\n",
    "Access element at row 1, col 2 in a 2D array."
   ]
  },
  {
   "cell_type": "code",
   "execution_count": 20,
   "id": "405953b3",
   "metadata": {},
   "outputs": [
    {
     "name": "stdout",
     "output_type": "stream",
     "text": [
      "60\n"
     ]
    }
   ],
   "source": [
    "import numpy as np\n",
    "\n",
    "arr = np.array([[10, 20, 30],\n",
    "                [40, 50, 60]])\n",
    "\n",
    "print(arr[1, 2])"
   ]
  },
  {
   "cell_type": "markdown",
   "id": "10459ec9",
   "metadata": {},
   "source": [
    "### Q54: (NumPy Basics)\n",
    "Flatten a 2D array."
   ]
  },
  {
   "cell_type": "code",
   "execution_count": 21,
   "id": "dd3563f5",
   "metadata": {},
   "outputs": [
    {
     "name": "stdout",
     "output_type": "stream",
     "text": [
      "[1 2 3 4 5 6]\n"
     ]
    }
   ],
   "source": [
    "import numpy as np\n",
    "\n",
    "arr = np.array([[1, 2, 3],\n",
    "                [4, 5, 6]])\n",
    "\n",
    "flat_arr = arr.flatten()\n",
    "print(flat_arr)"
   ]
  },
  {
   "cell_type": "markdown",
   "id": "85fed543",
   "metadata": {},
   "source": [
    "### Q55: (NumPy Basics)\n",
    "Stack two arrays vertically."
   ]
  },
  {
   "cell_type": "code",
   "execution_count": 22,
   "id": "6e025b59",
   "metadata": {},
   "outputs": [
    {
     "name": "stdout",
     "output_type": "stream",
     "text": [
      "[[1 2 3]\n",
      " [4 5 6]]\n"
     ]
    }
   ],
   "source": [
    "import numpy as np\n",
    "\n",
    "arr1 = np.array([1, 2, 3])\n",
    "arr2 = np.array([4, 5, 6])\n",
    "\n",
    "stacked = np.vstack((arr1, arr2))\n",
    "print(stacked)"
   ]
  },
  {
   "cell_type": "markdown",
   "id": "b42406ff",
   "metadata": {},
   "source": [
    "### Q56: (NumPy Basics)\n",
    "Slice the first two rows of a 2D numpy array."
   ]
  },
  {
   "cell_type": "code",
   "execution_count": 23,
   "id": "5761da43",
   "metadata": {},
   "outputs": [
    {
     "name": "stdout",
     "output_type": "stream",
     "text": [
      "[[10 20 30]\n",
      " [40 50 60]]\n"
     ]
    }
   ],
   "source": [
    "import numpy as np\n",
    "\n",
    "arr = np.array([[10, 20, 30],\n",
    "                [40, 50, 60],\n",
    "                [70, 80, 90]])\n",
    "\n",
    "first_two_rows = arr[:2, :]\n",
    "print(first_two_rows)"
   ]
  },
  {
   "cell_type": "markdown",
   "id": "3fd758ea",
   "metadata": {},
   "source": [
    "### Q57: (NumPy Basics)\n",
    "Slice the first two rows of a 2D numpy array."
   ]
  },
  {
   "cell_type": "code",
   "execution_count": 24,
   "id": "30c54905",
   "metadata": {},
   "outputs": [
    {
     "name": "stdout",
     "output_type": "stream",
     "text": [
      "[[10 20 30]\n",
      " [40 50 60]]\n"
     ]
    }
   ],
   "source": [
    "import numpy as np\n",
    "\n",
    "arr = np.array([[10, 20, 30],\n",
    "                [40, 50, 60],\n",
    "                [70, 80, 90]])\n",
    "\n",
    "first_two_rows = arr[:2]\n",
    "print(first_two_rows)"
   ]
  },
  {
   "cell_type": "markdown",
   "id": "c0ca2516",
   "metadata": {},
   "source": [
    "### Q58: (NumPy Basics)\n",
    "Print the shape and dtype of an array."
   ]
  },
  {
   "cell_type": "code",
   "execution_count": 25,
   "id": "9b5c0ea6",
   "metadata": {},
   "outputs": [
    {
     "name": "stdout",
     "output_type": "stream",
     "text": [
      "Shape: (2, 3)\n",
      "Data type: int64\n"
     ]
    }
   ],
   "source": [
    "import numpy as np\n",
    "\n",
    "arr = np.array([[1, 2, 3], [4, 5, 6]])\n",
    "\n",
    "print(\"Shape:\", arr.shape)\n",
    "print(\"Data type:\", arr.dtype)"
   ]
  },
  {
   "cell_type": "markdown",
   "id": "59015fbd",
   "metadata": {},
   "source": [
    "### Q59: (String Operations)\n",
    "Repeat the word 'Yes' 4 times using *."
   ]
  },
  {
   "cell_type": "code",
   "execution_count": 26,
   "id": "80a1bacd",
   "metadata": {},
   "outputs": [
    {
     "name": "stdout",
     "output_type": "stream",
     "text": [
      "YesYesYesYes\n"
     ]
    }
   ],
   "source": [
    "print(\"Yes\" * 4)"
   ]
  },
  {
   "cell_type": "markdown",
   "id": "63be7148",
   "metadata": {},
   "source": [
    "### Q60: (Variable and Data Types)\n",
    "Use multiple assignment to assign 3 values to a, b, c."
   ]
  },
  {
   "cell_type": "code",
   "execution_count": 27,
   "id": "ce3c912f",
   "metadata": {},
   "outputs": [
    {
     "name": "stdout",
     "output_type": "stream",
     "text": [
      "10 20 30\n"
     ]
    }
   ],
   "source": [
    "a, b, c = 10, 20, 30\n",
    "print(a, b, c)"
   ]
  },
  {
   "cell_type": "markdown",
   "id": "6a3810a9",
   "metadata": {},
   "source": [
    "### Q61: (Dictionaries)\n",
    "Add a new key 'subject' to the dictionary."
   ]
  },
  {
   "cell_type": "code",
   "execution_count": 28,
   "id": "27b4e368",
   "metadata": {},
   "outputs": [
    {
     "name": "stdout",
     "output_type": "stream",
     "text": [
      "{'name': 'John', 'age': 16, 'grade': '10th', 'subject': 'Math'}\n"
     ]
    }
   ],
   "source": [
    "student = {\n",
    "    \"name\": \"John\",\n",
    "    \"age\": 16,\n",
    "    \"grade\": \"10th\"\n",
    "}\n",
    "\n",
    "student[\"subject\"] = \"Math\"\n",
    "print(student)"
   ]
  },
  {
   "cell_type": "markdown",
   "id": "73c9d25c",
   "metadata": {},
   "source": [
    "### Q62: (Variable and Data Types)\n",
    "Assign the value 10 to x and then add 5 to it. Print the result."
   ]
  },
  {
   "cell_type": "code",
   "execution_count": 29,
   "id": "56d627e6",
   "metadata": {},
   "outputs": [
    {
     "name": "stdout",
     "output_type": "stream",
     "text": [
      "15\n"
     ]
    }
   ],
   "source": [
    "x = 10\n",
    "x = x + 5\n",
    "print(x)"
   ]
  },
  {
   "cell_type": "markdown",
   "id": "9f589b52",
   "metadata": {},
   "source": [
    "### Q63: (Nested Structures)\n",
    "Create a nested list and print the second element of the first list."
   ]
  },
  {
   "cell_type": "code",
   "execution_count": 30,
   "id": "d969ac92",
   "metadata": {},
   "outputs": [
    {
     "name": "stdout",
     "output_type": "stream",
     "text": [
      "2\n"
     ]
    }
   ],
   "source": [
    "nested_list = [[1, 2, 3], [4, 5, 6]]\n",
    "print(nested_list[0][1])"
   ]
  },
  {
   "cell_type": "markdown",
   "id": "8f60f598",
   "metadata": {},
   "source": [
    "### Q64: (Loops)\n",
    "Print the characters of a string one by one using a loop."
   ]
  },
  {
   "cell_type": "code",
   "execution_count": 31,
   "id": "5aa737d5",
   "metadata": {},
   "outputs": [
    {
     "name": "stdout",
     "output_type": "stream",
     "text": [
      "H\n",
      "e\n",
      "l\n",
      "l\n",
      "o\n"
     ]
    }
   ],
   "source": [
    "s = \"Hello\"\n",
    "\n",
    "for char in s:\n",
    "    print(char)"
   ]
  },
  {
   "cell_type": "markdown",
   "id": "e3beb30b",
   "metadata": {},
   "source": [
    "### Q65: (Sets)\n",
    "Try adding a duplicate and print the set."
   ]
  },
  {
   "cell_type": "code",
   "execution_count": 32,
   "id": "389007f3",
   "metadata": {},
   "outputs": [
    {
     "name": "stdout",
     "output_type": "stream",
     "text": [
      "{1, 2, 3}\n"
     ]
    }
   ],
   "source": [
    "my_set = {1, 2, 3}\n",
    "my_set.add(2)  # Adding duplicate\n",
    "print(my_set)"
   ]
  },
  {
   "cell_type": "markdown",
   "id": "6eaf1634",
   "metadata": {},
   "source": [
    "### Q66: (NumPy Basics)\n",
    "Flatten a 2D array."
   ]
  },
  {
   "cell_type": "code",
   "execution_count": 33,
   "id": "debcbc69",
   "metadata": {},
   "outputs": [
    {
     "name": "stdout",
     "output_type": "stream",
     "text": [
      "[1 2 3 4 5 6]\n"
     ]
    }
   ],
   "source": [
    "import numpy as np\n",
    "\n",
    "arr = np.array([[1, 2, 3],\n",
    "                [4, 5, 6]])\n",
    "\n",
    "flat_arr = arr.flatten()\n",
    "print(flat_arr)"
   ]
  },
  {
   "cell_type": "markdown",
   "id": "8b710609",
   "metadata": {},
   "source": [
    "### Q67: (Printing and Input)\n",
    "Ask for a favorite color and print it twice using multiplication."
   ]
  },
  {
   "cell_type": "code",
   "execution_count": null,
   "id": "94eb9f7d",
   "metadata": {},
   "outputs": [],
   "source": [
    "# Your answer here"
   ]
  },
  {
   "cell_type": "markdown",
   "id": "919bd661",
   "metadata": {},
   "source": [
    "### Q68: (String Operations)\n",
    "Repeat the word 'Yes' 4 times using *."
   ]
  },
  {
   "cell_type": "code",
   "execution_count": null,
   "id": "46d300ae",
   "metadata": {},
   "outputs": [],
   "source": [
    "# Your answer here"
   ]
  },
  {
   "cell_type": "markdown",
   "id": "586e35f5",
   "metadata": {},
   "source": [
    "### Q69: (Printing and Input)\n",
    "Ask for a favorite color and print it twice using multiplication."
   ]
  },
  {
   "cell_type": "code",
   "execution_count": null,
   "id": "fafd8533",
   "metadata": {},
   "outputs": [],
   "source": [
    "# Your answer here"
   ]
  },
  {
   "cell_type": "markdown",
   "id": "3d83eb40",
   "metadata": {},
   "source": [
    "### Q70: (If-Else and Comparisons)\n",
    "Check if a number is even or odd."
   ]
  },
  {
   "cell_type": "code",
   "execution_count": null,
   "id": "563efb02",
   "metadata": {},
   "outputs": [],
   "source": [
    "# Your answer here"
   ]
  },
  {
   "cell_type": "markdown",
   "id": "d8557f87",
   "metadata": {},
   "source": [
    "### Q71: (NumPy Basics)\n",
    "Import numpy and create a 1D array from 0 to 9."
   ]
  },
  {
   "cell_type": "code",
   "execution_count": null,
   "id": "78ed5b9c",
   "metadata": {},
   "outputs": [],
   "source": [
    "# Your answer here"
   ]
  },
  {
   "cell_type": "markdown",
   "id": "98d24946",
   "metadata": {},
   "source": [
    "### Q72: (Loops)\n",
    "Use a while loop to print numbers from 5 to 1."
   ]
  },
  {
   "cell_type": "code",
   "execution_count": null,
   "id": "1ee71489",
   "metadata": {},
   "outputs": [],
   "source": [
    "# Your answer here"
   ]
  },
  {
   "cell_type": "markdown",
   "id": "80e2a7ca",
   "metadata": {},
   "source": [
    "### Q73: (If-Else and Comparisons)\n",
    "Check if the number 12 is greater than 10 and print a message."
   ]
  },
  {
   "cell_type": "code",
   "execution_count": null,
   "id": "92132b21",
   "metadata": {},
   "outputs": [],
   "source": [
    "# Your answer here"
   ]
  },
  {
   "cell_type": "markdown",
   "id": "abe92348",
   "metadata": {},
   "source": [
    "### Q74: (Indexing and Slicing)\n",
    "Access every second element in the list."
   ]
  },
  {
   "cell_type": "code",
   "execution_count": null,
   "id": "92b589eb",
   "metadata": {},
   "outputs": [],
   "source": [
    "# Your answer here"
   ]
  },
  {
   "cell_type": "markdown",
   "id": "c5b670db",
   "metadata": {},
   "source": [
    "### Q75: (Loops)\n",
    "Use a while loop to print numbers from 5 to 1."
   ]
  },
  {
   "cell_type": "code",
   "execution_count": null,
   "id": "b8e89cf1",
   "metadata": {},
   "outputs": [],
   "source": [
    "# Your answer here"
   ]
  },
  {
   "cell_type": "markdown",
   "id": "c4f821ef",
   "metadata": {},
   "source": [
    "### Q76: (Printing and Input)\n",
    "Print the result of 10 + 20."
   ]
  },
  {
   "cell_type": "code",
   "execution_count": null,
   "id": "e929a34c",
   "metadata": {},
   "outputs": [],
   "source": [
    "# Your answer here"
   ]
  },
  {
   "cell_type": "markdown",
   "id": "fcbda71a",
   "metadata": {},
   "source": [
    "### Q77: (Printing and Input)\n",
    "Ask for a favorite color and print it twice using multiplication."
   ]
  },
  {
   "cell_type": "code",
   "execution_count": null,
   "id": "683693c9",
   "metadata": {},
   "outputs": [],
   "source": [
    "# Your answer here"
   ]
  },
  {
   "cell_type": "markdown",
   "id": "895821ab",
   "metadata": {},
   "source": [
    "### Q78: (Lists)\n",
    "Remove the first item of the list and print the rest."
   ]
  },
  {
   "cell_type": "code",
   "execution_count": null,
   "id": "7293b340",
   "metadata": {},
   "outputs": [],
   "source": [
    "# Your answer here"
   ]
  },
  {
   "cell_type": "markdown",
   "id": "16a008e4",
   "metadata": {},
   "source": [
    "### Q79: (NumPy Basics)\n",
    "Use np.linspace to create 5 values from 1 to 10."
   ]
  },
  {
   "cell_type": "code",
   "execution_count": null,
   "id": "6b048475",
   "metadata": {},
   "outputs": [],
   "source": [
    "# Your answer here"
   ]
  },
  {
   "cell_type": "markdown",
   "id": "c09c1661",
   "metadata": {},
   "source": [
    "### Q80: (Complex Numbers)\n",
    "Create complex numbers x = 2+3j and y = 4-2j. Print their sum."
   ]
  },
  {
   "cell_type": "code",
   "execution_count": null,
   "id": "b102bdc8",
   "metadata": {},
   "outputs": [],
   "source": [
    "# Your answer here"
   ]
  },
  {
   "cell_type": "markdown",
   "id": "65c6fe14",
   "metadata": {},
   "source": [
    "### Q81: (Printing and Input)\n",
    "Ask for a favorite color and print it twice using multiplication."
   ]
  },
  {
   "cell_type": "code",
   "execution_count": null,
   "id": "8e180fa7",
   "metadata": {},
   "outputs": [],
   "source": [
    "# Your answer here"
   ]
  },
  {
   "cell_type": "markdown",
   "id": "e3a2cd03",
   "metadata": {},
   "source": [
    "### Q82: (Complex Numbers)\n",
    "Create complex numbers x = 2+3j and y = 4-2j. Print their sum."
   ]
  },
  {
   "cell_type": "code",
   "execution_count": null,
   "id": "61f21249",
   "metadata": {},
   "outputs": [],
   "source": [
    "# Your answer here"
   ]
  },
  {
   "cell_type": "markdown",
   "id": "6c0d32cd",
   "metadata": {},
   "source": [
    "### Q83: (Dictionaries)\n",
    "Access the age from the dictionary."
   ]
  },
  {
   "cell_type": "code",
   "execution_count": null,
   "id": "429588c5",
   "metadata": {},
   "outputs": [],
   "source": [
    "# Your answer here"
   ]
  },
  {
   "cell_type": "markdown",
   "id": "bb072d6a",
   "metadata": {},
   "source": [
    "### Q84: (Lists)\n",
    "Create a list of 5 fruits and print the third item."
   ]
  },
  {
   "cell_type": "code",
   "execution_count": null,
   "id": "28eb7291",
   "metadata": {},
   "outputs": [],
   "source": [
    "# Your answer here"
   ]
  },
  {
   "cell_type": "markdown",
   "id": "d402f11b",
   "metadata": {},
   "source": [
    "### Q85: (NumPy Basics)\n",
    "Stack two arrays vertically."
   ]
  },
  {
   "cell_type": "code",
   "execution_count": null,
   "id": "7e8283e6",
   "metadata": {},
   "outputs": [],
   "source": [
    "# Your answer here"
   ]
  },
  {
   "cell_type": "markdown",
   "id": "0e85c9bb",
   "metadata": {},
   "source": [
    "### Q86: (Loops)\n",
    "Use a while loop to print numbers from 5 to 1."
   ]
  },
  {
   "cell_type": "code",
   "execution_count": null,
   "id": "60990e05",
   "metadata": {},
   "outputs": [],
   "source": [
    "# Your answer here"
   ]
  },
  {
   "cell_type": "markdown",
   "id": "ee95fb1e",
   "metadata": {},
   "source": [
    "### Q87: (Lists)\n",
    "Remove the first item of the list and print the rest."
   ]
  },
  {
   "cell_type": "code",
   "execution_count": null,
   "id": "68ec305a",
   "metadata": {},
   "outputs": [],
   "source": [
    "# Your answer here"
   ]
  },
  {
   "cell_type": "markdown",
   "id": "2e9a3666",
   "metadata": {},
   "source": [
    "### Q88: (Lists)\n",
    "Create a list of 5 fruits and print the third item."
   ]
  },
  {
   "cell_type": "code",
   "execution_count": null,
   "id": "dd40a37b",
   "metadata": {},
   "outputs": [],
   "source": [
    "# Your answer here"
   ]
  },
  {
   "cell_type": "markdown",
   "id": "b0ca2b3f",
   "metadata": {},
   "source": [
    "### Q89: (Printing and Input)\n",
    "Ask for a favorite color and print it twice using multiplication."
   ]
  },
  {
   "cell_type": "code",
   "execution_count": null,
   "id": "d36639ea",
   "metadata": {},
   "outputs": [],
   "source": [
    "# Your answer here"
   ]
  },
  {
   "cell_type": "markdown",
   "id": "fef04f52",
   "metadata": {},
   "source": [
    "### Q90: (Tuples)\n",
    "Convert a tuple to a list, change a value, and convert it back."
   ]
  },
  {
   "cell_type": "code",
   "execution_count": null,
   "id": "9ba06174",
   "metadata": {},
   "outputs": [],
   "source": [
    "# Your answer here"
   ]
  },
  {
   "cell_type": "markdown",
   "id": "e9b6c054",
   "metadata": {},
   "source": [
    "### Q91: (NumPy Basics)\n",
    "Import numpy and create a 1D array from 0 to 9."
   ]
  },
  {
   "cell_type": "code",
   "execution_count": null,
   "id": "89803c5d",
   "metadata": {},
   "outputs": [],
   "source": [
    "# Your answer here"
   ]
  },
  {
   "cell_type": "markdown",
   "id": "64b36a8c",
   "metadata": {},
   "source": [
    "### Q92: (Variable and Data Types)\n",
    "Use multiple assignment to assign 3 values to a, b, c."
   ]
  },
  {
   "cell_type": "code",
   "execution_count": null,
   "id": "c514add9",
   "metadata": {},
   "outputs": [],
   "source": [
    "# Your answer here"
   ]
  },
  {
   "cell_type": "markdown",
   "id": "4a7e08ed",
   "metadata": {},
   "source": [
    "### Q93: (Variable and Data Types)\n",
    "Check the type of variable `val = 3.14`."
   ]
  },
  {
   "cell_type": "code",
   "execution_count": null,
   "id": "ecb1e98a",
   "metadata": {},
   "outputs": [],
   "source": [
    "# Your answer here"
   ]
  },
  {
   "cell_type": "markdown",
   "id": "871b932c",
   "metadata": {},
   "source": [
    "### Q94: (Tuples)\n",
    "Convert a tuple to a list, change a value, and convert it back."
   ]
  },
  {
   "cell_type": "code",
   "execution_count": null,
   "id": "19469256",
   "metadata": {},
   "outputs": [],
   "source": [
    "# Your answer here"
   ]
  },
  {
   "cell_type": "markdown",
   "id": "16996993",
   "metadata": {},
   "source": [
    "### Q95: (If-Else and Comparisons)\n",
    "Compare two input numbers and print which is larger."
   ]
  },
  {
   "cell_type": "code",
   "execution_count": null,
   "id": "097c78f6",
   "metadata": {},
   "outputs": [],
   "source": [
    "# Your answer here"
   ]
  },
  {
   "cell_type": "markdown",
   "id": "b861f549",
   "metadata": {},
   "source": [
    "### Q96: (Sets)\n",
    "Try adding a duplicate and print the set."
   ]
  },
  {
   "cell_type": "code",
   "execution_count": null,
   "id": "5c1b81bc",
   "metadata": {},
   "outputs": [],
   "source": [
    "# Your answer here"
   ]
  },
  {
   "cell_type": "markdown",
   "id": "0b7190e2",
   "metadata": {},
   "source": [
    "### Q97: (Dictionaries)\n",
    "Access the age from the dictionary."
   ]
  },
  {
   "cell_type": "code",
   "execution_count": null,
   "id": "2778ae4d",
   "metadata": {},
   "outputs": [],
   "source": [
    "# Your answer here"
   ]
  },
  {
   "cell_type": "markdown",
   "id": "cb79fa11",
   "metadata": {},
   "source": [
    "### Q98: (Lists)\n",
    "Add 'mango' to the list and print."
   ]
  },
  {
   "cell_type": "code",
   "execution_count": null,
   "id": "62a5052c",
   "metadata": {},
   "outputs": [],
   "source": [
    "# Your answer here"
   ]
  },
  {
   "cell_type": "markdown",
   "id": "0a12cf5e",
   "metadata": {},
   "source": [
    "### Q99: (Sets)\n",
    "Create a set of 3 elements and add one more element."
   ]
  },
  {
   "cell_type": "code",
   "execution_count": 34,
   "id": "4e3efaae",
   "metadata": {},
   "outputs": [
    {
     "name": "stdout",
     "output_type": "stream",
     "text": [
      "{1, 2, 3, 4}\n"
     ]
    }
   ],
   "source": [
    "my_set = {1, 2, 3}\n",
    "my_set.add(4)\n",
    "print(my_set)"
   ]
  },
  {
   "cell_type": "markdown",
   "id": "3c728fd4",
   "metadata": {},
   "source": [
    "### Q100: (If-Else and Comparisons)\n",
    "Compare two input numbers and print which is larger."
   ]
  },
  {
   "cell_type": "code",
   "execution_count": null,
   "id": "7604bebe",
   "metadata": {},
   "outputs": [],
   "source": [
    "# Your answer here"
   ]
  }
 ],
 "metadata": {
  "kernelspec": {
   "display_name": "Python 3",
   "language": "python",
   "name": "python3"
  },
  "language_info": {
   "codemirror_mode": {
    "name": "ipython",
    "version": 3
   },
   "file_extension": ".py",
   "mimetype": "text/x-python",
   "name": "python",
   "nbconvert_exporter": "python",
   "pygments_lexer": "ipython3",
   "version": "3.13.1"
  }
 },
 "nbformat": 4,
 "nbformat_minor": 5
}
