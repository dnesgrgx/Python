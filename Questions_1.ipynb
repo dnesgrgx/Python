{
 "cells": [
  {
   "cell_type": "markdown",
   "id": "aad1397f",
   "metadata": {},
   "source": [
    "## Section A: Theoretical Questions"
   ]
  },
  {
   "cell_type": "markdown",
   "id": "f5b681db",
   "metadata": {},
   "source": [
    "### What is the difference between a list, tuple, and set in Python? Give one use-case for each."
   ]
  },
  {
   "cell_type": "markdown",
   "id": "7dc6c895",
   "metadata": {},
   "source": [
    "A list in Python is an ordered and mutable collection that allows duplicate elements. We can add, remove, or change items in a list, making it ideal for \n",
    "situations where the data may need to be updated frequently, like managing a to-do list or a collection of user inputs. A tuple, on the other hand, is also\n",
    "ordered but immutable, meaning once created, its contents cannot be changed. Tuples are useful for storing fixed data that should remain constant \n",
    "throughout the program, such as GPS coordinates or configuration settings. Lastly, a set is an unordered collection of unique elements — it automatically\n",
    "removes duplicates and does not maintain any order. Sets are perfect when you need to keep track of distinct items, like unique visitors to a website or \n",
    "unique tags in a collection. Each of these data types serves different purposes depending on whether you need mutability, order, or uniqueness."
   ]
  },
  {
   "cell_type": "markdown",
   "id": "70de8dba",
   "metadata": {},
   "source": [
    "### Explain how type casting is useful in handling user input."
   ]
  },
  {
   "cell_type": "markdown",
   "id": "44d8694a",
   "metadata": {},
   "source": [
    "Type casting is very useful when handling user input because input from users is typically received as a string by default. However, often we need to work \n",
    "with data in different types, like integers or floats, to perform calculations or comparisons. By using type casting, we convert the input string into the\n",
    "required data type, making it possible to use that data correctly in our program. For example, if a user enters their age, it comes in as a string like \n",
    "\"25\". To do arithmetic operations or comparisons, you need to convert it to an integer using int(). Without this conversion, mathematical operations would \n",
    "cause errors or behave incorrectly. Similarly, for decimal numbers, converting input to a float using float() allows precise calculations.\n",
    "\n",
    "In summary, type casting helps ensure that user inputs are interpreted and used in the correct data format, making programs more robust and error-free."
   ]
  },
  {
   "cell_type": "markdown",
   "id": "39892689",
   "metadata": {},
   "source": [
    "### What is string slicing? Give an example."
   ]
  },
  {
   "cell_type": "markdown",
   "id": "dc813513",
   "metadata": {},
   "source": [
    "String slicing is a way to extract a portion (substring) of a string by specifying a range of indices. It lets us to select parts of a string by providing a \n",
    "start index, an end index (exclusive), and optionally a step.\n",
    "Example: s = \"Hello, World!\"\n",
    "         print(s[0:5])    # Output: Hello\n",
    "         print(s[7:12])   # Output: World\n",
    "         print(s[::2]).   # Output: Hlo ol!\n",
    "    ->\ts[0:5] extracts characters from index 0 up to (but not including) index 5.\n",
    "    ->\ts[7:12] extracts characters from index 7 up to 12.\n",
    "\t->\ts[::2] extracts every second character from the whole string.    "
   ]
  },
  {
   "cell_type": "markdown",
   "id": "aca69127",
   "metadata": {},
   "source": [
    "### Compare 1D vs 2D arrays in the context of NumPy. Why is it important in data science?"
   ]
  },
  {
   "cell_type": "markdown",
   "id": "5ffd15ac",
   "metadata": {},
   "source": [
    "In the context of NumPy, the difference between 1D and 2D arrays is primarily about structure and how data is accessed or represented. More of a comparison\n",
    "between the 1D and 2D arrays is given below:\n",
    "A 1D array is a simple list of elements arranged in a single row. For example: arr = np.array([1, 2, 3, 4])\n",
    "This is like a single line of data, which is useful for storing a series of values such as scores or labels.\n",
    "\n",
    "A 2D array, on the other hand, is like a grid or table, consisting of rows and columns. For example: arr = np.array([[1, 2], [3, 4]])\n",
    "This structure is more powerful for representing data in matrix form, such as datasets with multiple features (columns) and observations (rows).\n",
    "\n",
    "Data science is important in th econtext of NumPy, datasets are usually structured as tables — like rows of customer records with multiple attributes \n",
    "(age, income, etc.). A 2D array is ideal for representing such data. Understanding the difference allows data scientists to apply the right operationslike \n",
    "matrix multiplication, slicing rows/columns, and feeding data into machine learning models — efficiently."
   ]
  },
  {
   "cell_type": "markdown",
   "id": "2478f96e",
   "metadata": {},
   "source": [
    "### Why is indentation important in Python? What happens if you ignore it?"
   ]
  },
  {
   "cell_type": "markdown",
   "id": "ef53a8e0",
   "metadata": {},
   "source": [
    "Indentation is very important in Python because it defines the structure of the code especially which lines belong to which blocks, like loops, conditionals,\n",
    "functions, and classes. Unlike many other languages that use braces {} or keywords to mark blocks of code, Python uses indentation (spaces or tabs) to group\n",
    "statements. It is important because it tells Python which code is inside a loop, if statement, function, etc and makes code readable and organized.It also \n",
    "prevents logic errors by clearly showing the flow of control.\n",
    "If we don’t use proper indentation, Python will raise an IndentationError or may run the code incorrectly, leading to logic errors.\n",
    "Example:\n",
    "        # Correctly indented\n",
    "    if True:\n",
    "       print(\"This is true\")\n",
    "\n",
    "       # Incorrectly indented\n",
    "     if True:\n",
    "     print(\"This will cause an error\")"
   ]
  },
  {
   "cell_type": "markdown",
   "id": "e004485e",
   "metadata": {},
   "source": [
    "## Section B: Coding Exercises"
   ]
  },
  {
   "cell_type": "markdown",
   "id": "f7639ab3",
   "metadata": {},
   "source": [
    "\n",
    "### User Input & Type Casting\n",
    "### Take the age and height (in cm) of a user as input and print a message like:\n",
    "### \"You are 23 years old and 170.5 cm tall.\"\n"
   ]
  },
  {
   "cell_type": "code",
   "execution_count": 2,
   "id": "c35b15b1",
   "metadata": {},
   "outputs": [
    {
     "name": "stdout",
     "output_type": "stream",
     "text": [
      "You are 19 years old and 167 cm tall.\n"
     ]
    }
   ],
   "source": [
    "# Take age and height as input\n",
    "age = input(\"Enter your age: \")\n",
    "height = input(\"Enter your height in cm: \")\n",
    "\n",
    "# Print the message\n",
    "print(f\"You are {age} years old and {height} cm tall.\")"
   ]
  },
  {
   "cell_type": "markdown",
   "id": "06c638d3",
   "metadata": {},
   "source": [
    "\n",
    "### Given a string s = \"DataScience\", print:\n",
    "\n",
    "### (a) First 4 characters\n",
    "\n",
    "### (b) Last 3 characters\n",
    "\n",
    "### (c) Every second character"
   ]
  },
  {
   "cell_type": "code",
   "execution_count": 3,
   "id": "307af9f3",
   "metadata": {},
   "outputs": [
    {
     "name": "stdout",
     "output_type": "stream",
     "text": [
      "First 4 characters: Data\n",
      "Last 3 characters: nce\n",
      "Every second character: DtSine\n"
     ]
    }
   ],
   "source": [
    "s = \"DataScience\"\n",
    "\n",
    "# (a) First 4 characters\n",
    "print(\"First 4 characters:\", s[:4])\n",
    "\n",
    "# (b) Last 3 characters\n",
    "print(\"Last 3 characters:\", s[-3:])\n",
    "\n",
    "# (c) Every second character\n",
    "print(\"Every second character:\", s[::2])"
   ]
  },
  {
   "cell_type": "markdown",
   "id": "22feac4e",
   "metadata": {},
   "source": [
    "\n",
    "### Create a list of numbers from 1 to 10. Convert it to a tuple and print the square of each number using a loop."
   ]
  },
  {
   "cell_type": "code",
   "execution_count": 4,
   "id": "59266c44",
   "metadata": {},
   "outputs": [
    {
     "name": "stdout",
     "output_type": "stream",
     "text": [
      "The square of 1 is 1\n",
      "The square of 2 is 4\n",
      "The square of 3 is 9\n",
      "The square of 4 is 16\n",
      "The square of 5 is 25\n",
      "The square of 6 is 36\n",
      "The square of 7 is 49\n",
      "The square of 8 is 64\n",
      "The square of 9 is 81\n",
      "The square of 10 is 100\n"
     ]
    }
   ],
   "source": [
    "num_list = list(range(1, 11))\n",
    "num_tuple = tuple(num_list)\n",
    "\n",
    "for num in num_tuple:\n",
    "    print(f\"The square of {num} is {num ** 2}\")"
   ]
  },
  {
   "cell_type": "markdown",
   "id": "fcdd16fb",
   "metadata": {},
   "source": [
    "### Given two sets:\n",
    "### A = {1, 2, 3, 4, 5}, B = {4, 5, 6, 7},\n",
    "\n",
    "### Print the union and intersection of the sets.\n",
    "\n",
    "### Remove 3 from set A."
   ]
  },
  {
   "cell_type": "code",
   "execution_count": 5,
   "id": "3d86d119",
   "metadata": {},
   "outputs": [
    {
     "name": "stdout",
     "output_type": "stream",
     "text": [
      "Union of A and B: {1, 2, 3, 4, 5, 6, 7}\n",
      "Intersection of A and B: {4, 5}\n",
      "Set A after removing 3: {1, 2, 4, 5}\n"
     ]
    }
   ],
   "source": [
    "A = {1, 2, 3, 4, 5}\n",
    "B = {4, 5, 6, 7}\n",
    "\n",
    "union_set = A.union(B)\n",
    "print(\"Union of A and B:\", union_set)\n",
    "\n",
    "intersection_set = A.intersection(B)\n",
    "print(\"Intersection of A and B:\", intersection_set)\n",
    "\n",
    "A.discard(3)\n",
    "print(\"Set A after removing 3:\", A)"
   ]
  },
  {
   "cell_type": "markdown",
   "id": "34a5ed22",
   "metadata": {},
   "source": [
    "\n",
    "### (a) Create a NumPy array from a user input list.\n",
    "### (b) Create a 2D NumPy array of shape (3, 3) and fill it with numbers 1 to 9.\n",
    "### (c) Print the first row, last column, and the transpose of the array."
   ]
  },
  {
   "cell_type": "code",
   "execution_count": 6,
   "id": "dab5ee6e",
   "metadata": {},
   "outputs": [
    {
     "name": "stdout",
     "output_type": "stream",
     "text": [
      "1D NumPy array from input: [10 20 30 40]\n",
      "\n",
      "2D NumPy array (3x3):\n",
      " [[1 2 3]\n",
      " [4 5 6]\n",
      " [7 8 9]]\n",
      "\n",
      "First row: [1 2 3]\n",
      "Last column: [3 6 9]\n",
      "Transpose:\n",
      " [[1 4 7]\n",
      " [2 5 8]\n",
      " [3 6 9]]\n"
     ]
    }
   ],
   "source": [
    "import numpy as np\n",
    "\n",
    "# (a) Create a NumPy array from a user input list\n",
    "user_input = input(\"Enter numbers separated by spaces: \")\n",
    "num_list = [int(x) for x in user_input.split()]\n",
    "arr1 = np.array(num_list)\n",
    "print(\"1D NumPy array from input:\", arr1)\n",
    "\n",
    "# (b) Create a 2D NumPy array of shape (3, 3) with numbers 1 to 9\n",
    "arr2 = np.arange(1, 10).reshape(3, 3)\n",
    "print(\"\\n2D NumPy array (3x3):\\n\", arr2)\n",
    "\n",
    "# (c) Print the first row, last column, and transpose of the array\n",
    "print(\"\\nFirst row:\", arr2[0])\n",
    "print(\"Last column:\", arr2[:, -1])\n",
    "print(\"Transpose:\\n\", arr2.T)"
   ]
  },
  {
   "cell_type": "markdown",
   "id": "ff2996e7",
   "metadata": {},
   "source": [
    "## Section C: BrainStorming"
   ]
  },
  {
   "cell_type": "markdown",
   "id": "7d897c88",
   "metadata": {},
   "source": [
    "### Why are NumPy arrays preferred over lists in data science? Mention two reasons with examples."
   ]
  },
  {
   "cell_type": "code",
   "execution_count": null,
   "id": "7297f49f",
   "metadata": {},
   "outputs": [
    {
     "name": "stdout",
     "output_type": "stream",
     "text": [
      "List time: 0.04581117630004883\n",
      "NumPy time: 0.002064228057861328\n"
     ]
    }
   ],
   "source": [
    "import numpy as np\n",
    "import time\n",
    "\n",
    "list_data = list(range(1000000))\n",
    "start = time.time()\n",
    "list_squared = [x**2 for x in list_data]\n",
    "print(\"List time:\", time.time() - start)\n",
    "\n",
    "arr_data = np.array(list_data)\n",
    "start = time.time()\n",
    "arr_squared = arr_data ** 2\n",
    "print(\"NumPy time:\", time.time() - start)"
   ]
  },
  {
   "cell_type": "markdown",
   "id": "4241256e",
   "metadata": {},
   "source": [
    "### Suppose you want to store multiple temperature readings over several days, where each day has different numbers of readings. Which Python data structure would you choose and why?"
   ]
  },
  {
   "cell_type": "markdown",
   "id": "d52d409b",
   "metadata": {},
   "source": [
    "If each day has a different number of temperature readings, so to store these multiple temperature readings I would choose list of lists Python data structure because a list can store any number of elements and also is dynamic in size. It is also easy to access individual readings."
   ]
  },
  {
   "cell_type": "code",
   "execution_count": null,
   "id": "0ee14592",
   "metadata": {},
   "outputs": [
    {
     "name": "stdout",
     "output_type": "stream",
     "text": [
      "23.0\n"
     ]
    }
   ],
   "source": [
    "temperature_readings = [\n",
    "    [22.5, 23.0, 21.8],       # Day 1: 3 readings\n",
    "    [20.1, 19.8],             # Day 2: 2 readings\n",
    "    [25.0, 26.3, 24.5, 23.9]  # Day 3: 4 readings\n",
    "]\n",
    "print(temperature_readings[0][1]) "
   ]
  },
  {
   "cell_type": "markdown",
   "id": "f52d1737",
   "metadata": {},
   "source": [
    "### Create a function analyze_array(arr) that:\n",
    "\n",
    "### Takes a NumPy array as input\n",
    "\n",
    "### Prints the shape, mean, and standard deviation of the array."
   ]
  },
  {
   "cell_type": "code",
   "execution_count": null,
   "id": "6999c646",
   "metadata": {},
   "outputs": [
    {
     "name": "stdout",
     "output_type": "stream",
     "text": [
      "Shape of array: (2, 3)\n",
      "Mean of array: 3.5\n",
      "Standard deviation of array: 1.707825127659933\n"
     ]
    }
   ],
   "source": [
    "import numpy as np\n",
    "\n",
    "def analyze_array(arr):\n",
    "    print(\"Shape of array:\", arr.shape)\n",
    "    print(\"Mean of array:\", np.mean(arr))\n",
    "    print(\"Standard deviation of array:\", np.std(arr))\n",
    "#Example:\n",
    "data = np.array([[1, 2, 3], [4, 5, 6]])\n",
    "analyze_array(data)"
   ]
  },
  {
   "cell_type": "markdown",
   "id": "b517b373",
   "metadata": {},
   "source": [
    "### Given a list of 10 integers, write a loop to check which numbers are divisible by both 2 and 3. Store them in a set."
   ]
  },
  {
   "cell_type": "code",
   "execution_count": 3,
   "id": "ad0218c1",
   "metadata": {},
   "outputs": [
    {
     "name": "stdout",
     "output_type": "stream",
     "text": [
      "{36, 12, 18, 24, 30}\n"
     ]
    }
   ],
   "source": [
    "numbers = [12, 7, 18, 20, 24, 5, 30, 33, 36, 40]  # Example list of 10 integers\n",
    "divisible_by_2_and_3 = set()\n",
    "\n",
    "for num in numbers:\n",
    "    if num % 2 == 0 and num % 3 == 0:\n",
    "        divisible_by_2_and_3.add(num)\n",
    "\n",
    "print(divisible_by_2_and_3)"
   ]
  }
 ],
 "metadata": {
  "kernelspec": {
   "display_name": "Python 3",
   "language": "python",
   "name": "python3"
  },
  "language_info": {
   "codemirror_mode": {
    "name": "ipython",
    "version": 3
   },
   "file_extension": ".py",
   "mimetype": "text/x-python",
   "name": "python",
   "nbconvert_exporter": "python",
   "pygments_lexer": "ipython3",
   "version": "3.13.1"
  }
 },
 "nbformat": 4,
 "nbformat_minor": 5
}
